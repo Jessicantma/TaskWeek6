{
  "metadata": {
    "kernelspec": {
      "language": "python",
      "display_name": "Python 3",
      "name": "python3"
    },
    "language_info": {
      "name": "python",
      "version": "3.10.14",
      "mimetype": "text/x-python",
      "codemirror_mode": {
        "name": "ipython",
        "version": 3
      },
      "pygments_lexer": "ipython3",
      "nbconvert_exporter": "python",
      "file_extension": ".py"
    },
    "kaggle": {
      "accelerator": "gpu",
      "dataSources": [
        {
          "sourceId": 2510329,
          "sourceType": "datasetVersion",
          "datasetId": 1520310
        }
      ],
      "dockerImageVersionId": 30787,
      "isInternetEnabled": true,
      "language": "python",
      "sourceType": "notebook",
      "isGpuEnabled": true
    },
    "colab": {
      "name": "Twitter Sentiment Analysis by  Bidirectional LSTM",
      "provenance": [],
      "include_colab_link": true
    }
  },
  "nbformat_minor": 0,
  "nbformat": 4,
  "cells": [
    {
      "cell_type": "markdown",
      "metadata": {
        "id": "view-in-github",
        "colab_type": "text"
      },
      "source": [
        "<a href=\"https://colab.research.google.com/github/Jessicantma/TaskWeek6/blob/main/Twitter_Sentiment_Analysis_by_Bidirectional_LSTM.ipynb\" target=\"_parent\"><img src=\"https://colab.research.google.com/assets/colab-badge.svg\" alt=\"Open In Colab\"/></a>"
      ]
    },
    {
      "source": [
        "# IMPORTANT: RUN THIS CELL IN ORDER TO IMPORT YOUR KAGGLE DATA SOURCES,\n",
        "# THEN FEEL FREE TO DELETE THIS CELL.\n",
        "# NOTE: THIS NOTEBOOK ENVIRONMENT DIFFERS FROM KAGGLE'S PYTHON\n",
        "# ENVIRONMENT SO THERE MAY BE MISSING LIBRARIES USED BY YOUR\n",
        "# NOTEBOOK.\n",
        "import kagglehub\n",
        "jp797498e_twitter_entity_sentiment_analysis_path = kagglehub.dataset_download('jp797498e/twitter-entity-sentiment-analysis')\n",
        "\n",
        "print('Data source import complete.')\n"
      ],
      "metadata": {
        "id": "kGCBKFvUXGlr",
        "outputId": "11dcb527-747f-4cb1-fdd1-bf3bb460398f",
        "colab": {
          "base_uri": "https://localhost:8080/"
        }
      },
      "cell_type": "code",
      "outputs": [
        {
          "output_type": "stream",
          "name": "stdout",
          "text": [
            "Warning: Looks like you're using an outdated `kagglehub` version, please consider updating (latest version: 0.3.3)\n",
            "Downloading from https://www.kaggle.com/api/v1/datasets/download/jp797498e/twitter-entity-sentiment-analysis?dataset_version_number=2...\n"
          ]
        },
        {
          "output_type": "stream",
          "name": "stderr",
          "text": [
            "100%|██████████| 1.99M/1.99M [00:00<00:00, 2.57MB/s]"
          ]
        },
        {
          "output_type": "stream",
          "name": "stdout",
          "text": [
            "Extracting files...\n"
          ]
        },
        {
          "output_type": "stream",
          "name": "stderr",
          "text": [
            "\n"
          ]
        },
        {
          "output_type": "stream",
          "name": "stdout",
          "text": [
            "Data source import complete.\n"
          ]
        }
      ],
      "execution_count": 1
    },
    {
      "cell_type": "code",
      "source": [
        "import pandas as pd\n",
        "import nltk\n",
        "nltk.download('stopwords')\n",
        "nltk.download('punkt')\n",
        "from nltk.corpus import stopwords\n",
        "from nltk.tokenize import word_tokenize\n",
        "import re\n",
        "from sklearn.model_selection import train_test_split\n",
        "from sklearn.preprocessing import LabelEncoder\n",
        "import tensorflow as tf\n",
        "from tensorflow.keras.preprocessing.text import Tokenizer\n",
        "from tensorflow.keras.preprocessing.sequence import pad_sequences\n",
        "from tensorflow.keras.models import Sequential\n",
        "from tensorflow.keras.layers import Embedding, Bidirectional, LSTM, Dense"
      ],
      "metadata": {
        "execution": {
          "iopub.status.busy": "2024-10-10T22:53:11.348979Z",
          "iopub.execute_input": "2024-10-10T22:53:11.349315Z",
          "iopub.status.idle": "2024-10-10T22:53:26.421389Z",
          "shell.execute_reply.started": "2024-10-10T22:53:11.34928Z",
          "shell.execute_reply": "2024-10-10T22:53:26.420581Z"
        },
        "trusted": true,
        "id": "QH05VugKXGlt",
        "outputId": "05ace9a1-c31c-40c3-8c3f-acdd066e2748",
        "colab": {
          "base_uri": "https://localhost:8080/"
        }
      },
      "execution_count": 2,
      "outputs": [
        {
          "output_type": "stream",
          "name": "stderr",
          "text": [
            "[nltk_data] Downloading package stopwords to /root/nltk_data...\n",
            "[nltk_data]   Unzipping corpora/stopwords.zip.\n",
            "[nltk_data] Downloading package punkt to /root/nltk_data...\n",
            "[nltk_data]   Unzipping tokenizers/punkt.zip.\n"
          ]
        }
      ]
    },
    {
      "cell_type": "code",
      "source": [
        "df_trian=pd.read_csv('/content/twitter_training.csv (1).zip')\n",
        "df_val=pd.read_csv('/content/twitter_validation (1).csv')"
      ],
      "metadata": {
        "execution": {
          "iopub.status.busy": "2024-10-10T22:53:47.563903Z",
          "iopub.execute_input": "2024-10-10T22:53:47.564565Z",
          "iopub.status.idle": "2024-10-10T22:53:47.865725Z",
          "shell.execute_reply.started": "2024-10-10T22:53:47.564524Z",
          "shell.execute_reply": "2024-10-10T22:53:47.864833Z"
        },
        "trusted": true,
        "id": "5gtj3XUoXGlt"
      },
      "execution_count": 3,
      "outputs": []
    },
    {
      "cell_type": "code",
      "source": [
        "df_trian.columns #error in colunms name"
      ],
      "metadata": {
        "execution": {
          "iopub.status.busy": "2024-10-10T22:54:06.512956Z",
          "iopub.execute_input": "2024-10-10T22:54:06.513811Z",
          "iopub.status.idle": "2024-10-10T22:54:06.522403Z",
          "shell.execute_reply.started": "2024-10-10T22:54:06.51376Z",
          "shell.execute_reply": "2024-10-10T22:54:06.521367Z"
        },
        "trusted": true,
        "id": "XPgZlXMXXGlt",
        "outputId": "5e6ff216-00bb-46e8-cc27-4daa124721f0",
        "colab": {
          "base_uri": "https://localhost:8080/"
        }
      },
      "execution_count": 4,
      "outputs": [
        {
          "output_type": "execute_result",
          "data": {
            "text/plain": [
              "Index(['2401', 'Borderlands', 'Positive',\n",
              "       'im getting on borderlands and i will murder you all ,'],\n",
              "      dtype='object')"
            ]
          },
          "metadata": {},
          "execution_count": 4
        }
      ]
    },
    {
      "cell_type": "markdown",
      "source": [
        "# cleaning data\n"
      ],
      "metadata": {
        "id": "z1Wjy7g1XGlt"
      }
    },
    {
      "cell_type": "code",
      "source": [
        "# Remove duplicate rows\n",
        "df_trian = df_trian.drop_duplicates()\n",
        "df_val = df_val.drop_duplicates()\n",
        "\n",
        "# Remove rows with empty values\n",
        "df_trian = df_trian.dropna()\n",
        "df_val = df_val.dropna()\n",
        "\n",
        "# Rename columns\n",
        "df_trian.columns = [\"header\",\"company\",\"label\",\"text\"]\n",
        "df_val.columns = [\"header\",\"company\",\"label\",\"text\"]"
      ],
      "metadata": {
        "execution": {
          "iopub.status.busy": "2024-10-10T22:55:12.726436Z",
          "iopub.execute_input": "2024-10-10T22:55:12.727332Z",
          "iopub.status.idle": "2024-10-10T22:55:12.819438Z",
          "shell.execute_reply.started": "2024-10-10T22:55:12.727291Z",
          "shell.execute_reply": "2024-10-10T22:55:12.818295Z"
        },
        "trusted": true,
        "id": "DaSEbvYYXGlu"
      },
      "execution_count": 5,
      "outputs": []
    },
    {
      "cell_type": "code",
      "source": [
        "df_trian"
      ],
      "metadata": {
        "execution": {
          "iopub.status.busy": "2024-10-10T22:55:23.042825Z",
          "iopub.execute_input": "2024-10-10T22:55:23.043689Z",
          "iopub.status.idle": "2024-10-10T22:55:23.059354Z",
          "shell.execute_reply.started": "2024-10-10T22:55:23.04365Z",
          "shell.execute_reply": "2024-10-10T22:55:23.058351Z"
        },
        "trusted": true,
        "id": "xzrivVNXXGlu",
        "outputId": "f7fdb5a9-7d8d-425d-9ec0-958bee9a7985",
        "colab": {
          "base_uri": "https://localhost:8080/",
          "height": 423
        }
      },
      "execution_count": 6,
      "outputs": [
        {
          "output_type": "execute_result",
          "data": {
            "text/plain": [
              "       header      company     label  \\\n",
              "0        2401  Borderlands  Positive   \n",
              "1        2401  Borderlands  Positive   \n",
              "2        2401  Borderlands  Positive   \n",
              "3        2401  Borderlands  Positive   \n",
              "4        2401  Borderlands  Positive   \n",
              "...       ...          ...       ...   \n",
              "74676    9200       Nvidia  Positive   \n",
              "74677    9200       Nvidia  Positive   \n",
              "74678    9200       Nvidia  Positive   \n",
              "74679    9200       Nvidia  Positive   \n",
              "74680    9200       Nvidia  Positive   \n",
              "\n",
              "                                                    text  \n",
              "0      I am coming to the borders and I will kill you...  \n",
              "1      im getting on borderlands and i will kill you ...  \n",
              "2      im coming on borderlands and i will murder you...  \n",
              "3      im getting on borderlands 2 and i will murder ...  \n",
              "4      im getting into borderlands and i can murder y...  \n",
              "...                                                  ...  \n",
              "74676  Just realized that the Windows partition of my...  \n",
              "74677  Just realized that my Mac window partition is ...  \n",
              "74678  Just realized the windows partition of my Mac ...  \n",
              "74679  Just realized between the windows partition of...  \n",
              "74680  Just like the windows partition of my Mac is l...  \n",
              "\n",
              "[71655 rows x 4 columns]"
            ],
            "text/html": [
              "\n",
              "  <div id=\"df-a7b2b6cd-7176-48c4-bdd3-07f82baecffe\" class=\"colab-df-container\">\n",
              "    <div>\n",
              "<style scoped>\n",
              "    .dataframe tbody tr th:only-of-type {\n",
              "        vertical-align: middle;\n",
              "    }\n",
              "\n",
              "    .dataframe tbody tr th {\n",
              "        vertical-align: top;\n",
              "    }\n",
              "\n",
              "    .dataframe thead th {\n",
              "        text-align: right;\n",
              "    }\n",
              "</style>\n",
              "<table border=\"1\" class=\"dataframe\">\n",
              "  <thead>\n",
              "    <tr style=\"text-align: right;\">\n",
              "      <th></th>\n",
              "      <th>header</th>\n",
              "      <th>company</th>\n",
              "      <th>label</th>\n",
              "      <th>text</th>\n",
              "    </tr>\n",
              "  </thead>\n",
              "  <tbody>\n",
              "    <tr>\n",
              "      <th>0</th>\n",
              "      <td>2401</td>\n",
              "      <td>Borderlands</td>\n",
              "      <td>Positive</td>\n",
              "      <td>I am coming to the borders and I will kill you...</td>\n",
              "    </tr>\n",
              "    <tr>\n",
              "      <th>1</th>\n",
              "      <td>2401</td>\n",
              "      <td>Borderlands</td>\n",
              "      <td>Positive</td>\n",
              "      <td>im getting on borderlands and i will kill you ...</td>\n",
              "    </tr>\n",
              "    <tr>\n",
              "      <th>2</th>\n",
              "      <td>2401</td>\n",
              "      <td>Borderlands</td>\n",
              "      <td>Positive</td>\n",
              "      <td>im coming on borderlands and i will murder you...</td>\n",
              "    </tr>\n",
              "    <tr>\n",
              "      <th>3</th>\n",
              "      <td>2401</td>\n",
              "      <td>Borderlands</td>\n",
              "      <td>Positive</td>\n",
              "      <td>im getting on borderlands 2 and i will murder ...</td>\n",
              "    </tr>\n",
              "    <tr>\n",
              "      <th>4</th>\n",
              "      <td>2401</td>\n",
              "      <td>Borderlands</td>\n",
              "      <td>Positive</td>\n",
              "      <td>im getting into borderlands and i can murder y...</td>\n",
              "    </tr>\n",
              "    <tr>\n",
              "      <th>...</th>\n",
              "      <td>...</td>\n",
              "      <td>...</td>\n",
              "      <td>...</td>\n",
              "      <td>...</td>\n",
              "    </tr>\n",
              "    <tr>\n",
              "      <th>74676</th>\n",
              "      <td>9200</td>\n",
              "      <td>Nvidia</td>\n",
              "      <td>Positive</td>\n",
              "      <td>Just realized that the Windows partition of my...</td>\n",
              "    </tr>\n",
              "    <tr>\n",
              "      <th>74677</th>\n",
              "      <td>9200</td>\n",
              "      <td>Nvidia</td>\n",
              "      <td>Positive</td>\n",
              "      <td>Just realized that my Mac window partition is ...</td>\n",
              "    </tr>\n",
              "    <tr>\n",
              "      <th>74678</th>\n",
              "      <td>9200</td>\n",
              "      <td>Nvidia</td>\n",
              "      <td>Positive</td>\n",
              "      <td>Just realized the windows partition of my Mac ...</td>\n",
              "    </tr>\n",
              "    <tr>\n",
              "      <th>74679</th>\n",
              "      <td>9200</td>\n",
              "      <td>Nvidia</td>\n",
              "      <td>Positive</td>\n",
              "      <td>Just realized between the windows partition of...</td>\n",
              "    </tr>\n",
              "    <tr>\n",
              "      <th>74680</th>\n",
              "      <td>9200</td>\n",
              "      <td>Nvidia</td>\n",
              "      <td>Positive</td>\n",
              "      <td>Just like the windows partition of my Mac is l...</td>\n",
              "    </tr>\n",
              "  </tbody>\n",
              "</table>\n",
              "<p>71655 rows × 4 columns</p>\n",
              "</div>\n",
              "    <div class=\"colab-df-buttons\">\n",
              "\n",
              "  <div class=\"colab-df-container\">\n",
              "    <button class=\"colab-df-convert\" onclick=\"convertToInteractive('df-a7b2b6cd-7176-48c4-bdd3-07f82baecffe')\"\n",
              "            title=\"Convert this dataframe to an interactive table.\"\n",
              "            style=\"display:none;\">\n",
              "\n",
              "  <svg xmlns=\"http://www.w3.org/2000/svg\" height=\"24px\" viewBox=\"0 -960 960 960\">\n",
              "    <path d=\"M120-120v-720h720v720H120Zm60-500h600v-160H180v160Zm220 220h160v-160H400v160Zm0 220h160v-160H400v160ZM180-400h160v-160H180v160Zm440 0h160v-160H620v160ZM180-180h160v-160H180v160Zm440 0h160v-160H620v160Z\"/>\n",
              "  </svg>\n",
              "    </button>\n",
              "\n",
              "  <style>\n",
              "    .colab-df-container {\n",
              "      display:flex;\n",
              "      gap: 12px;\n",
              "    }\n",
              "\n",
              "    .colab-df-convert {\n",
              "      background-color: #E8F0FE;\n",
              "      border: none;\n",
              "      border-radius: 50%;\n",
              "      cursor: pointer;\n",
              "      display: none;\n",
              "      fill: #1967D2;\n",
              "      height: 32px;\n",
              "      padding: 0 0 0 0;\n",
              "      width: 32px;\n",
              "    }\n",
              "\n",
              "    .colab-df-convert:hover {\n",
              "      background-color: #E2EBFA;\n",
              "      box-shadow: 0px 1px 2px rgba(60, 64, 67, 0.3), 0px 1px 3px 1px rgba(60, 64, 67, 0.15);\n",
              "      fill: #174EA6;\n",
              "    }\n",
              "\n",
              "    .colab-df-buttons div {\n",
              "      margin-bottom: 4px;\n",
              "    }\n",
              "\n",
              "    [theme=dark] .colab-df-convert {\n",
              "      background-color: #3B4455;\n",
              "      fill: #D2E3FC;\n",
              "    }\n",
              "\n",
              "    [theme=dark] .colab-df-convert:hover {\n",
              "      background-color: #434B5C;\n",
              "      box-shadow: 0px 1px 3px 1px rgba(0, 0, 0, 0.15);\n",
              "      filter: drop-shadow(0px 1px 2px rgba(0, 0, 0, 0.3));\n",
              "      fill: #FFFFFF;\n",
              "    }\n",
              "  </style>\n",
              "\n",
              "    <script>\n",
              "      const buttonEl =\n",
              "        document.querySelector('#df-a7b2b6cd-7176-48c4-bdd3-07f82baecffe button.colab-df-convert');\n",
              "      buttonEl.style.display =\n",
              "        google.colab.kernel.accessAllowed ? 'block' : 'none';\n",
              "\n",
              "      async function convertToInteractive(key) {\n",
              "        const element = document.querySelector('#df-a7b2b6cd-7176-48c4-bdd3-07f82baecffe');\n",
              "        const dataTable =\n",
              "          await google.colab.kernel.invokeFunction('convertToInteractive',\n",
              "                                                    [key], {});\n",
              "        if (!dataTable) return;\n",
              "\n",
              "        const docLinkHtml = 'Like what you see? Visit the ' +\n",
              "          '<a target=\"_blank\" href=https://colab.research.google.com/notebooks/data_table.ipynb>data table notebook</a>'\n",
              "          + ' to learn more about interactive tables.';\n",
              "        element.innerHTML = '';\n",
              "        dataTable['output_type'] = 'display_data';\n",
              "        await google.colab.output.renderOutput(dataTable, element);\n",
              "        const docLink = document.createElement('div');\n",
              "        docLink.innerHTML = docLinkHtml;\n",
              "        element.appendChild(docLink);\n",
              "      }\n",
              "    </script>\n",
              "  </div>\n",
              "\n",
              "\n",
              "<div id=\"df-1cd6e885-e07a-4dd9-a44f-edd572792802\">\n",
              "  <button class=\"colab-df-quickchart\" onclick=\"quickchart('df-1cd6e885-e07a-4dd9-a44f-edd572792802')\"\n",
              "            title=\"Suggest charts\"\n",
              "            style=\"display:none;\">\n",
              "\n",
              "<svg xmlns=\"http://www.w3.org/2000/svg\" height=\"24px\"viewBox=\"0 0 24 24\"\n",
              "     width=\"24px\">\n",
              "    <g>\n",
              "        <path d=\"M19 3H5c-1.1 0-2 .9-2 2v14c0 1.1.9 2 2 2h14c1.1 0 2-.9 2-2V5c0-1.1-.9-2-2-2zM9 17H7v-7h2v7zm4 0h-2V7h2v10zm4 0h-2v-4h2v4z\"/>\n",
              "    </g>\n",
              "</svg>\n",
              "  </button>\n",
              "\n",
              "<style>\n",
              "  .colab-df-quickchart {\n",
              "      --bg-color: #E8F0FE;\n",
              "      --fill-color: #1967D2;\n",
              "      --hover-bg-color: #E2EBFA;\n",
              "      --hover-fill-color: #174EA6;\n",
              "      --disabled-fill-color: #AAA;\n",
              "      --disabled-bg-color: #DDD;\n",
              "  }\n",
              "\n",
              "  [theme=dark] .colab-df-quickchart {\n",
              "      --bg-color: #3B4455;\n",
              "      --fill-color: #D2E3FC;\n",
              "      --hover-bg-color: #434B5C;\n",
              "      --hover-fill-color: #FFFFFF;\n",
              "      --disabled-bg-color: #3B4455;\n",
              "      --disabled-fill-color: #666;\n",
              "  }\n",
              "\n",
              "  .colab-df-quickchart {\n",
              "    background-color: var(--bg-color);\n",
              "    border: none;\n",
              "    border-radius: 50%;\n",
              "    cursor: pointer;\n",
              "    display: none;\n",
              "    fill: var(--fill-color);\n",
              "    height: 32px;\n",
              "    padding: 0;\n",
              "    width: 32px;\n",
              "  }\n",
              "\n",
              "  .colab-df-quickchart:hover {\n",
              "    background-color: var(--hover-bg-color);\n",
              "    box-shadow: 0 1px 2px rgba(60, 64, 67, 0.3), 0 1px 3px 1px rgba(60, 64, 67, 0.15);\n",
              "    fill: var(--button-hover-fill-color);\n",
              "  }\n",
              "\n",
              "  .colab-df-quickchart-complete:disabled,\n",
              "  .colab-df-quickchart-complete:disabled:hover {\n",
              "    background-color: var(--disabled-bg-color);\n",
              "    fill: var(--disabled-fill-color);\n",
              "    box-shadow: none;\n",
              "  }\n",
              "\n",
              "  .colab-df-spinner {\n",
              "    border: 2px solid var(--fill-color);\n",
              "    border-color: transparent;\n",
              "    border-bottom-color: var(--fill-color);\n",
              "    animation:\n",
              "      spin 1s steps(1) infinite;\n",
              "  }\n",
              "\n",
              "  @keyframes spin {\n",
              "    0% {\n",
              "      border-color: transparent;\n",
              "      border-bottom-color: var(--fill-color);\n",
              "      border-left-color: var(--fill-color);\n",
              "    }\n",
              "    20% {\n",
              "      border-color: transparent;\n",
              "      border-left-color: var(--fill-color);\n",
              "      border-top-color: var(--fill-color);\n",
              "    }\n",
              "    30% {\n",
              "      border-color: transparent;\n",
              "      border-left-color: var(--fill-color);\n",
              "      border-top-color: var(--fill-color);\n",
              "      border-right-color: var(--fill-color);\n",
              "    }\n",
              "    40% {\n",
              "      border-color: transparent;\n",
              "      border-right-color: var(--fill-color);\n",
              "      border-top-color: var(--fill-color);\n",
              "    }\n",
              "    60% {\n",
              "      border-color: transparent;\n",
              "      border-right-color: var(--fill-color);\n",
              "    }\n",
              "    80% {\n",
              "      border-color: transparent;\n",
              "      border-right-color: var(--fill-color);\n",
              "      border-bottom-color: var(--fill-color);\n",
              "    }\n",
              "    90% {\n",
              "      border-color: transparent;\n",
              "      border-bottom-color: var(--fill-color);\n",
              "    }\n",
              "  }\n",
              "</style>\n",
              "\n",
              "  <script>\n",
              "    async function quickchart(key) {\n",
              "      const quickchartButtonEl =\n",
              "        document.querySelector('#' + key + ' button');\n",
              "      quickchartButtonEl.disabled = true;  // To prevent multiple clicks.\n",
              "      quickchartButtonEl.classList.add('colab-df-spinner');\n",
              "      try {\n",
              "        const charts = await google.colab.kernel.invokeFunction(\n",
              "            'suggestCharts', [key], {});\n",
              "      } catch (error) {\n",
              "        console.error('Error during call to suggestCharts:', error);\n",
              "      }\n",
              "      quickchartButtonEl.classList.remove('colab-df-spinner');\n",
              "      quickchartButtonEl.classList.add('colab-df-quickchart-complete');\n",
              "    }\n",
              "    (() => {\n",
              "      let quickchartButtonEl =\n",
              "        document.querySelector('#df-1cd6e885-e07a-4dd9-a44f-edd572792802 button');\n",
              "      quickchartButtonEl.style.display =\n",
              "        google.colab.kernel.accessAllowed ? 'block' : 'none';\n",
              "    })();\n",
              "  </script>\n",
              "</div>\n",
              "\n",
              "  <div id=\"id_5fc7fe9a-2585-4d18-b0e9-bb37a9b01848\">\n",
              "    <style>\n",
              "      .colab-df-generate {\n",
              "        background-color: #E8F0FE;\n",
              "        border: none;\n",
              "        border-radius: 50%;\n",
              "        cursor: pointer;\n",
              "        display: none;\n",
              "        fill: #1967D2;\n",
              "        height: 32px;\n",
              "        padding: 0 0 0 0;\n",
              "        width: 32px;\n",
              "      }\n",
              "\n",
              "      .colab-df-generate:hover {\n",
              "        background-color: #E2EBFA;\n",
              "        box-shadow: 0px 1px 2px rgba(60, 64, 67, 0.3), 0px 1px 3px 1px rgba(60, 64, 67, 0.15);\n",
              "        fill: #174EA6;\n",
              "      }\n",
              "\n",
              "      [theme=dark] .colab-df-generate {\n",
              "        background-color: #3B4455;\n",
              "        fill: #D2E3FC;\n",
              "      }\n",
              "\n",
              "      [theme=dark] .colab-df-generate:hover {\n",
              "        background-color: #434B5C;\n",
              "        box-shadow: 0px 1px 3px 1px rgba(0, 0, 0, 0.15);\n",
              "        filter: drop-shadow(0px 1px 2px rgba(0, 0, 0, 0.3));\n",
              "        fill: #FFFFFF;\n",
              "      }\n",
              "    </style>\n",
              "    <button class=\"colab-df-generate\" onclick=\"generateWithVariable('df_trian')\"\n",
              "            title=\"Generate code using this dataframe.\"\n",
              "            style=\"display:none;\">\n",
              "\n",
              "  <svg xmlns=\"http://www.w3.org/2000/svg\" height=\"24px\"viewBox=\"0 0 24 24\"\n",
              "       width=\"24px\">\n",
              "    <path d=\"M7,19H8.4L18.45,9,17,7.55,7,17.6ZM5,21V16.75L18.45,3.32a2,2,0,0,1,2.83,0l1.4,1.43a1.91,1.91,0,0,1,.58,1.4,1.91,1.91,0,0,1-.58,1.4L9.25,21ZM18.45,9,17,7.55Zm-12,3A5.31,5.31,0,0,0,4.9,8.1,5.31,5.31,0,0,0,1,6.5,5.31,5.31,0,0,0,4.9,4.9,5.31,5.31,0,0,0,6.5,1,5.31,5.31,0,0,0,8.1,4.9,5.31,5.31,0,0,0,12,6.5,5.46,5.46,0,0,0,6.5,12Z\"/>\n",
              "  </svg>\n",
              "    </button>\n",
              "    <script>\n",
              "      (() => {\n",
              "      const buttonEl =\n",
              "        document.querySelector('#id_5fc7fe9a-2585-4d18-b0e9-bb37a9b01848 button.colab-df-generate');\n",
              "      buttonEl.style.display =\n",
              "        google.colab.kernel.accessAllowed ? 'block' : 'none';\n",
              "\n",
              "      buttonEl.onclick = () => {\n",
              "        google.colab.notebook.generateWithVariable('df_trian');\n",
              "      }\n",
              "      })();\n",
              "    </script>\n",
              "  </div>\n",
              "\n",
              "    </div>\n",
              "  </div>\n"
            ],
            "application/vnd.google.colaboratory.intrinsic+json": {
              "type": "dataframe",
              "variable_name": "df_trian",
              "summary": "{\n  \"name\": \"df_trian\",\n  \"rows\": 71655,\n  \"fields\": [\n    {\n      \"column\": \"header\",\n      \"properties\": {\n        \"dtype\": \"number\",\n        \"std\": 3742,\n        \"min\": 1,\n        \"max\": 13200,\n        \"num_unique_values\": 12447,\n        \"samples\": [\n          1616,\n          2660,\n          2335\n        ],\n        \"semantic_type\": \"\",\n        \"description\": \"\"\n      }\n    },\n    {\n      \"column\": \"company\",\n      \"properties\": {\n        \"dtype\": \"category\",\n        \"num_unique_values\": 32,\n        \"samples\": [\n          \"Cyberpunk2077\",\n          \"Microsoft\",\n          \"TomClancysRainbowSix\"\n        ],\n        \"semantic_type\": \"\",\n        \"description\": \"\"\n      }\n    },\n    {\n      \"column\": \"label\",\n      \"properties\": {\n        \"dtype\": \"category\",\n        \"num_unique_values\": 4,\n        \"samples\": [\n          \"Neutral\",\n          \"Irrelevant\",\n          \"Positive\"\n        ],\n        \"semantic_type\": \"\",\n        \"description\": \"\"\n      }\n    },\n    {\n      \"column\": \"text\",\n      \"properties\": {\n        \"dtype\": \"string\",\n        \"num_unique_values\": 69490,\n        \"samples\": [\n          \"so how does my stained glass open facebook account girl already have 200 likes!!!! and i sure am so!!??? oh thankful!??!?!\",\n          \"How not to get bored about every damn thing in life.\",\n          \"The Best Perfect Way to Protect All the Planet Samsung Galaxy Note10 + By buff. ly / The 2zkjIhU..\"\n        ],\n        \"semantic_type\": \"\",\n        \"description\": \"\"\n      }\n    }\n  ]\n}"
            }
          },
          "metadata": {},
          "execution_count": 6
        }
      ]
    },
    {
      "cell_type": "code",
      "source": [
        "stop_words = set(stopwords.words('english'))\n",
        "\n",
        "def preprocess_text(text):\n",
        "  text = text.lower()\n",
        "  text = re.sub(r'http\\S+', '', text)  # Remove URLs\n",
        "  text = re.sub(r'@[A-Za-z0-9]+', '', text)  # Remove mentions\n",
        "  text = re.sub(r'#[A-Za-z0-9]+', '', text)  # Remove hashtags\n",
        "  text = re.sub(r'\\W', ' ', text)  # Remove special characters\n",
        "  text = re.sub(r'\\s+', ' ', text)  # Remove extra spaces\n",
        "  text = text.strip()\n",
        "\n",
        "  tokens = word_tokenize(text)\n",
        "  filtered_tokens = [w for w in tokens if not w in stop_words]\n",
        "\n",
        "  return \" \".join(filtered_tokens)\n",
        "\n",
        "df_trian['text'] = df_trian['text'].apply(preprocess_text)\n",
        "df_val['text'] = df_val['text'].apply(preprocess_text)"
      ],
      "metadata": {
        "execution": {
          "iopub.status.busy": "2024-10-10T22:56:35.407403Z",
          "iopub.execute_input": "2024-10-10T22:56:35.40854Z",
          "iopub.status.idle": "2024-10-10T22:56:53.151291Z",
          "shell.execute_reply.started": "2024-10-10T22:56:35.408489Z",
          "shell.execute_reply": "2024-10-10T22:56:53.150495Z"
        },
        "trusted": true,
        "id": "Xt83kcj-XGlu"
      },
      "execution_count": 7,
      "outputs": []
    },
    {
      "cell_type": "code",
      "source": [
        "# Drop 'header' and 'company' columns\n",
        "df_trian = df_trian.drop(['header', 'company'], axis=1)\n",
        "df_val = df_val.drop(['header', 'company'], axis=1)"
      ],
      "metadata": {
        "execution": {
          "iopub.status.busy": "2024-10-10T22:57:07.093838Z",
          "iopub.execute_input": "2024-10-10T22:57:07.094258Z",
          "iopub.status.idle": "2024-10-10T22:57:07.105938Z",
          "shell.execute_reply.started": "2024-10-10T22:57:07.09422Z",
          "shell.execute_reply": "2024-10-10T22:57:07.104822Z"
        },
        "trusted": true,
        "id": "iW1jEIUXXGlv"
      },
      "execution_count": 8,
      "outputs": []
    },
    {
      "cell_type": "code",
      "source": [
        "# Split df_val into df_test and df_val\n",
        "df_val, df_test = train_test_split(df_val, test_size=0.5, random_state=42)  # Adjust test_size as needed\n",
        "\n",
        "print(\"df_val shape:\", df_val.shape)\n",
        "print(\"df_test shape:\", df_test.shape)"
      ],
      "metadata": {
        "execution": {
          "iopub.status.busy": "2024-10-10T22:57:55.57832Z",
          "iopub.execute_input": "2024-10-10T22:57:55.579036Z",
          "iopub.status.idle": "2024-10-10T22:57:55.58706Z",
          "shell.execute_reply.started": "2024-10-10T22:57:55.578997Z",
          "shell.execute_reply": "2024-10-10T22:57:55.586163Z"
        },
        "trusted": true,
        "id": "hjg6ruUvXGlv",
        "outputId": "95575e0b-45a0-485b-abaf-feb5df85378b",
        "colab": {
          "base_uri": "https://localhost:8080/"
        }
      },
      "execution_count": 9,
      "outputs": [
        {
          "output_type": "stream",
          "name": "stdout",
          "text": [
            "df_val shape: (499, 2)\n",
            "df_test shape: (500, 2)\n"
          ]
        }
      ]
    },
    {
      "cell_type": "code",
      "source": [
        "le = LabelEncoder()\n",
        "\n",
        "# Fit the encoder on the training data and transform the label column\n",
        "df_trian['label'] = le.fit_transform(df_trian['label'])\n",
        "\n",
        "# Transform the label column in df_val using the same encoder\n",
        "df_val['label'] = le.transform(df_val['label'])\n",
        "\n",
        "# Transform the label column in df_test using the same encoder\n",
        "df_test['label'] = le.transform(df_test['label'])"
      ],
      "metadata": {
        "execution": {
          "iopub.status.busy": "2024-10-10T23:00:18.186128Z",
          "iopub.execute_input": "2024-10-10T23:00:18.187145Z",
          "iopub.status.idle": "2024-10-10T23:00:18.214274Z",
          "shell.execute_reply.started": "2024-10-10T23:00:18.18709Z",
          "shell.execute_reply": "2024-10-10T23:00:18.213309Z"
        },
        "trusted": true,
        "id": "j1JpHryGXGlv"
      },
      "execution_count": 10,
      "outputs": []
    },
    {
      "cell_type": "code",
      "source": [
        "# Tokenize the text data\n",
        "max_words = 20000\n",
        "tokenizer = Tokenizer(num_words=max_words, oov_token='<OOV>')\n",
        "tokenizer.fit_on_texts(df_trian['text'])\n",
        "\n",
        "# Convert text to sequences\n",
        "train_sequences = tokenizer.texts_to_sequences(df_trian['text'])\n",
        "val_sequences = tokenizer.texts_to_sequences(df_val['text'])\n",
        "test_sequences = tokenizer.texts_to_sequences(df_test['text'])\n",
        "\n",
        "# Pad sequences to a fixed length\n",
        "max_sequence_length = 100\n",
        "train_padded = pad_sequences(train_sequences, maxlen=max_sequence_length, padding='post', truncating='post')\n",
        "val_padded = pad_sequences(val_sequences, maxlen=max_sequence_length, padding='post', truncating='post')\n",
        "test_padded = pad_sequences(test_sequences, maxlen=max_sequence_length, padding='post', truncating='post')\n"
      ],
      "metadata": {
        "execution": {
          "iopub.status.busy": "2024-10-10T23:03:48.624817Z",
          "iopub.execute_input": "2024-10-10T23:03:48.625732Z",
          "iopub.status.idle": "2024-10-10T23:03:51.632503Z",
          "shell.execute_reply.started": "2024-10-10T23:03:48.625691Z",
          "shell.execute_reply": "2024-10-10T23:03:51.631672Z"
        },
        "trusted": true,
        "id": "u4k_J2yjXGlv"
      },
      "execution_count": 11,
      "outputs": []
    },
    {
      "cell_type": "code",
      "source": [
        "embedding_dim = 128\n",
        "model = Sequential([\n",
        "    Embedding(max_words, embedding_dim, input_length=max_sequence_length),\n",
        "    Bidirectional(LSTM(64, return_sequences=True)),  # Return sequences for the next LSTM layer\n",
        "    Bidirectional(LSTM(32)),  # Final LSTM layer\n",
        "    Dense(64, activation='relu'),  # Add a dense layer for further processing\n",
        "    Dense(4, activation='softmax')  # Output layer with softmax for multi-class classification\n",
        "])"
      ],
      "metadata": {
        "execution": {
          "iopub.status.busy": "2024-10-10T23:04:47.145531Z",
          "iopub.execute_input": "2024-10-10T23:04:47.145919Z",
          "iopub.status.idle": "2024-10-10T23:04:47.185186Z",
          "shell.execute_reply.started": "2024-10-10T23:04:47.145882Z",
          "shell.execute_reply": "2024-10-10T23:04:47.184371Z"
        },
        "trusted": true,
        "id": "-TWOqf1XXGlv",
        "outputId": "4c5ad6f5-0d1e-4f1d-d237-e2eee422d2f7",
        "colab": {
          "base_uri": "https://localhost:8080/"
        }
      },
      "execution_count": 12,
      "outputs": [
        {
          "output_type": "stream",
          "name": "stderr",
          "text": [
            "/usr/local/lib/python3.10/dist-packages/keras/src/layers/core/embedding.py:90: UserWarning: Argument `input_length` is deprecated. Just remove it.\n",
            "  warnings.warn(\n"
          ]
        }
      ]
    },
    {
      "cell_type": "code",
      "source": [
        "model.compile(loss='sparse_categorical_crossentropy', optimizer='adam', metrics=['accuracy'])"
      ],
      "metadata": {
        "execution": {
          "iopub.status.busy": "2024-10-10T23:05:44.952564Z",
          "iopub.execute_input": "2024-10-10T23:05:44.95296Z",
          "iopub.status.idle": "2024-10-10T23:05:44.973904Z",
          "shell.execute_reply.started": "2024-10-10T23:05:44.9529Z",
          "shell.execute_reply": "2024-10-10T23:05:44.972986Z"
        },
        "trusted": true,
        "id": "P5iAkaivXGlv"
      },
      "execution_count": 13,
      "outputs": []
    },
    {
      "cell_type": "code",
      "source": [
        "epochs = 10\n",
        "batch_size = 32\n",
        "model.fit(train_padded, df_trian['label'], epochs=epochs, batch_size=batch_size, validation_data=(val_padded, df_val['label']))"
      ],
      "metadata": {
        "execution": {
          "iopub.status.busy": "2024-10-10T23:06:16.013806Z",
          "iopub.execute_input": "2024-10-10T23:06:16.014227Z",
          "iopub.status.idle": "2024-10-10T23:14:50.501088Z",
          "shell.execute_reply.started": "2024-10-10T23:06:16.014181Z",
          "shell.execute_reply": "2024-10-10T23:14:50.500178Z"
        },
        "trusted": true,
        "id": "d0ffSAa6XGlv",
        "outputId": "f3a9cd55-fa1c-4166-e1c2-c6d8e7b4d01e",
        "colab": {
          "base_uri": "https://localhost:8080/"
        }
      },
      "execution_count": 14,
      "outputs": [
        {
          "output_type": "stream",
          "name": "stdout",
          "text": [
            "Epoch 1/10\n",
            "\u001b[1m2240/2240\u001b[0m \u001b[32m━━━━━━━━━━━━━━━━━━━━\u001b[0m\u001b[37m\u001b[0m \u001b[1m492s\u001b[0m 216ms/step - accuracy: 0.5920 - loss: 0.9684 - val_accuracy: 0.9299 - val_loss: 0.2309\n",
            "Epoch 2/10\n",
            "\u001b[1m2240/2240\u001b[0m \u001b[32m━━━━━━━━━━━━━━━━━━━━\u001b[0m\u001b[37m\u001b[0m \u001b[1m499s\u001b[0m 215ms/step - accuracy: 0.8878 - loss: 0.3063 - val_accuracy: 0.9419 - val_loss: 0.1608\n",
            "Epoch 3/10\n",
            "\u001b[1m2240/2240\u001b[0m \u001b[32m━━━━━━━━━━━━━━━━━━━━\u001b[0m\u001b[37m\u001b[0m \u001b[1m502s\u001b[0m 214ms/step - accuracy: 0.9198 - loss: 0.2047 - val_accuracy: 0.9519 - val_loss: 0.1450\n",
            "Epoch 4/10\n",
            "\u001b[1m2240/2240\u001b[0m \u001b[32m━━━━━━━━━━━━━━━━━━━━\u001b[0m\u001b[37m\u001b[0m \u001b[1m479s\u001b[0m 214ms/step - accuracy: 0.9332 - loss: 0.1679 - val_accuracy: 0.9439 - val_loss: 0.1611\n",
            "Epoch 5/10\n",
            "\u001b[1m2240/2240\u001b[0m \u001b[32m━━━━━━━━━━━━━━━━━━━━\u001b[0m\u001b[37m\u001b[0m \u001b[1m500s\u001b[0m 213ms/step - accuracy: 0.9447 - loss: 0.1377 - val_accuracy: 0.9599 - val_loss: 0.1182\n",
            "Epoch 6/10\n",
            "\u001b[1m2240/2240\u001b[0m \u001b[32m━━━━━━━━━━━━━━━━━━━━\u001b[0m\u001b[37m\u001b[0m \u001b[1m502s\u001b[0m 213ms/step - accuracy: 0.9495 - loss: 0.1201 - val_accuracy: 0.9559 - val_loss: 0.1540\n",
            "Epoch 7/10\n",
            "\u001b[1m2240/2240\u001b[0m \u001b[32m━━━━━━━━━━━━━━━━━━━━\u001b[0m\u001b[37m\u001b[0m \u001b[1m505s\u001b[0m 214ms/step - accuracy: 0.9545 - loss: 0.1065 - val_accuracy: 0.9619 - val_loss: 0.1620\n",
            "Epoch 8/10\n",
            "\u001b[1m2240/2240\u001b[0m \u001b[32m━━━━━━━━━━━━━━━━━━━━\u001b[0m\u001b[37m\u001b[0m \u001b[1m500s\u001b[0m 214ms/step - accuracy: 0.9594 - loss: 0.0960 - val_accuracy: 0.9559 - val_loss: 0.1740\n",
            "Epoch 9/10\n",
            "\u001b[1m2240/2240\u001b[0m \u001b[32m━━━━━━━━━━━━━━━━━━━━\u001b[0m\u001b[37m\u001b[0m \u001b[1m478s\u001b[0m 213ms/step - accuracy: 0.9610 - loss: 0.0893 - val_accuracy: 0.9539 - val_loss: 0.1794\n",
            "Epoch 10/10\n",
            "\u001b[1m2240/2240\u001b[0m \u001b[32m━━━━━━━━━━━━━━━━━━━━\u001b[0m\u001b[37m\u001b[0m \u001b[1m504s\u001b[0m 214ms/step - accuracy: 0.9623 - loss: 0.0834 - val_accuracy: 0.9579 - val_loss: 0.1685\n"
          ]
        },
        {
          "output_type": "execute_result",
          "data": {
            "text/plain": [
              "<keras.src.callbacks.history.History at 0x7b5d5090fa00>"
            ]
          },
          "metadata": {},
          "execution_count": 14
        }
      ]
    },
    {
      "cell_type": "code",
      "source": [
        "loss, accuracy = model.evaluate(test_padded, df_test['label'])\n",
        "print(\"Test Loss:\", loss)\n",
        "print(\"Test Accuracy:\", accuracy)"
      ],
      "metadata": {
        "execution": {
          "iopub.status.busy": "2024-10-10T23:15:49.249704Z",
          "iopub.execute_input": "2024-10-10T23:15:49.250403Z",
          "iopub.status.idle": "2024-10-10T23:15:49.484098Z",
          "shell.execute_reply.started": "2024-10-10T23:15:49.250362Z",
          "shell.execute_reply": "2024-10-10T23:15:49.483257Z"
        },
        "trusted": true,
        "id": "NS6n9TBoXGlv",
        "outputId": "c1bd3e47-aa12-4dca-88e2-b02b41eec071",
        "colab": {
          "base_uri": "https://localhost:8080/"
        }
      },
      "execution_count": 15,
      "outputs": [
        {
          "output_type": "stream",
          "name": "stdout",
          "text": [
            "\u001b[1m16/16\u001b[0m \u001b[32m━━━━━━━━━━━━━━━━━━━━\u001b[0m\u001b[37m\u001b[0m \u001b[1m1s\u001b[0m 42ms/step - accuracy: 0.9762 - loss: 0.1307\n",
            "Test Loss: 0.1768166422843933\n",
            "Test Accuracy: 0.9679999947547913\n"
          ]
        }
      ]
    },
    {
      "cell_type": "code",
      "source": [],
      "metadata": {
        "trusted": true,
        "id": "iRDRbRbFXGlv"
      },
      "execution_count": 15,
      "outputs": []
    }
  ]
}